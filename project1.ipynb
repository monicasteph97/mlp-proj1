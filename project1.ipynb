{
 "cells": [
  {
   "cell_type": "markdown",
   "metadata": {
    "id": "rOyOkJJA7Foy"
   },
   "source": [
    "# Machine Learning in Python - Group Project 1\n",
    "\n",
    "**Due Friday, March 10th by 16.00 pm.**\n",
    "\n",
    "*Matthew Backhouse, Monica Stephanie, Ross Campbell, Royce Yan*"
   ]
  },
  {
   "cell_type": "markdown",
   "metadata": {
    "id": "PqPpPRE37Fo0"
   },
   "source": [
    "## General Setup"
   ]
  },
  {
   "cell_type": "code",
   "execution_count": 1,
   "metadata": {
    "id": "jb4qh-pi7Fo1"
   },
   "outputs": [],
   "source": [
    "# Add any additional libraries or submodules below\n",
    "\n",
    "# Data libraries\n",
    "import numpy as np\n",
    "import pandas as pd\n",
    "\n",
    "# Plotting libraries\n",
    "import matplotlib.pyplot as plt\n",
    "import seaborn as sns\n",
    "import plotly.express as px\n",
    "\n",
    "# Plotting defaults\n",
    "plt.rcParams['figure.figsize'] = (8,5)\n",
    "plt.rcParams['figure.dpi'] = 80\n",
    "\n",
    "# sklearn modules that are necessary\n",
    "from ydata_profiling import ProfileReport\n",
    "from jcopml.pipeline import num_pipe, cat_pipe\n",
    "from jcopml.feature_importance import mean_score_decrease\n",
    "from jcopml.plot import plot_actual_vs_prediction, plot_residual\n",
    "from jcopml.tuning import random_search_params as rsp\n",
    "from jcopml.tuning.space import Real, Integer\n",
    "from sklearn.compose import ColumnTransformer\n",
    "from sklearn.preprocessing import MultiLabelBinarizer\n",
    "from sklearn.pipeline import Pipeline\n",
    "from sklearn.model_selection import train_test_split\n",
    "from sklearn.model_selection import RandomizedSearchCV\n",
    "from sklearn.metrics import r2_score, mean_squared_error, mean_absolute_error\n",
    "# from xgboost import XGBRegressor\n",
    "# from sklearn.linear_model import LinearRegression\n",
    "# from sklearn.svm import SVR\n",
    "from sklearn.ensemble import RandomForestRegressor\n",
    "# from catboost import CatBoostRegressor\n",
    "# from lightgbm import LGBMRegressor\n",
    "\n",
    "%matplotlib inline\n",
    "pd.options.display.max_columns = 200"
   ]
  },
  {
   "cell_type": "code",
   "execution_count": 2,
   "metadata": {
    "id": "hjs5785u7Fo1"
   },
   "outputs": [],
   "source": [
    "# Load data\n",
    "data = pd.read_csv('the_office.csv')\n",
    "df_guest_star = pd.read_csv('guest_duration_office.csv')"
   ]
  },
  {
   "cell_type": "code",
   "execution_count": 3,
   "metadata": {
    "scrolled": true,
    "tags": []
   },
   "outputs": [],
   "source": [
    "# ProfileReport(data)"
   ]
  },
  {
   "cell_type": "markdown",
   "metadata": {},
   "source": [
    "After making sure that all the necessary libraries or submodules are uploaded here, please follow the given skeleton to create your project report. \n",
    "- Your completed assignment must follow this structure \n",
    "- You should not add or remove any of these sections, if you feel it is necessary you may add extra subsections within each (such as *2.1. Encoding*). \n",
    "\n",
    "**Do not forget to remove the instructions for each section in the final document.**"
   ]
  },
  {
   "cell_type": "markdown",
   "metadata": {
    "id": "K314dGEL7Fo1"
   },
   "source": [
    "## 1. Introduction\n",
    "\n",
    "*This section should include a brief introduction to the task and the data (assume this is a report you are delivering to a client).* \n",
    "\n",
    "- If you use any additional data sources, you should introduce them here and discuss why they were included.\n",
    "\n",
    "- Briefly outline the approaches being used and the conclusions that you are able to draw."
   ]
  },
  {
   "cell_type": "markdown",
   "metadata": {
    "id": "3P6Vdzbo7Fo2"
   },
   "source": [
    "## 2. Exploratory Data Analysis and Feature Engineering"
   ]
  },
  {
   "cell_type": "markdown",
   "metadata": {
    "id": "Arg9_dYE7Fo2"
   },
   "source": [
    "*Include a detailed discussion of the data with a particular emphasis on the features of the data that are relevant for the subsequent modeling.* \n",
    "\n",
    "- Including visualizations of the data is strongly encouraged - all code and plots must also be described in the write up. \n",
    "- Think carefully about whether each plot needs to be included in your final draft - your report should include figures but they should be as focused and impactful as possible.\n",
    "\n",
    "*Additionally, this section should also implement and describe any preprocessing / feature engineering of the data.*\n",
    "\n",
    "- Specifically, this should be any code that you use to generate new columns in the data frame `d`. All of this processing is explicitly meant to occur before we split the data in to training and testing subsets. \n",
    "- Processing that will be performed as part of an sklearn pipeline can be mentioned here but should be implemented in the following section.*\n",
    "\n",
    "**All code and figures should be accompanied by text that provides an overview / context to what is being done or presented.**"
   ]
  },
  {
   "cell_type": "code",
   "execution_count": 4,
   "metadata": {},
   "outputs": [],
   "source": [
    "def data_preparation(data, df_guest_star):\n",
    "    \"\"\"\n",
    "    Feature engineering for training and to-be-predicted data.\n",
    "  \n",
    "    Parameters\n",
    "    ----------\n",
    "    df_credit: Pandas dataframe of raw data (pd.DataFrame).\n",
    "    future: Identifier for training or to-be-predicted data (boolean).\n",
    "  \n",
    "    Returns\n",
    "    -------\n",
    "    df: Pandas dataframe of data with appropriate features (pd.DataFrame).\n",
    "    \"\"\"\n",
    "    df = data.copy()\n",
    "    \n",
    "    # Clean director data\n",
    "    clean_director = {'McDougal':'McDougall',\n",
    "                      'Scanlong':'Scanlon',\n",
    "                      'Daneils':'Daniels',\n",
    "                      'Wittingham': 'Whittingham',\n",
    "                      'Lieerstein': 'Lieberstein'\n",
    "                     }\n",
    "    df['director'] = df['director'].replace(clean_director)\n",
    "    \n",
    "    # Retrieve guest star in each episode, Separate ; into columns then apply one hot encoding for writer and main chars\n",
    "    df_guest_star = df_guest_star.rename(columns={'Season':'season', 'EpisodeTitle':'episode_name', 'GuestStars':'guest_stars'})\n",
    "    df = df.merge(df_guest_star[['season', 'episode_name', 'guest_stars']],\n",
    "                    how='left', on=['season', 'episode_name'])\n",
    "    \n",
    "    # Convert air_date column from string to datetime\n",
    "    df['air_date'] = pd.to_datetime(df['air_date'], format='%Y-%m-%d')\n",
    "    \n",
    "    # Retrieve day, month, year, week of year, day of week, weekday/weekend\n",
    "#     df['air_day'] = df['air_date'].dt.day\n",
    "    df['air_month'] = df['air_date'].dt.month\n",
    "#     df['air_year'] = df['air_date'].dt.year\n",
    "#     df['air_week'] = df['air_date'].dt.isocalendar().week\n",
    "#     df['air_day_of_week'] = df['air_date'].dt.weekday\n",
    "#     df['air_is_weekday'] = df['air_date'].apply(lambda x: 1 if x.weekday() < 5 else 0)\n",
    "    \n",
    "    # Separate ; into columns then apply one hot encoding for writer, main_chars, and guest\n",
    "#     mlb = MultiLabelBinarizer()\n",
    "    for key, val in {'writer':'w', 'main_chars':'mc', 'guest_stars':'gs'}.items():\n",
    "        df[key] = df[key].fillna('N/A')\n",
    "        df[key] = df[key].str.split(';') if key != 'guest_stars' else df[key].str.split(',')\n",
    "#         mlb.fit(df[key])\n",
    "#         df = pd.concat([df, pd.DataFrame(mlb.fit_transform(df[key]), columns=val+'_'+mlb.classes_)], axis=1)\n",
    "    \n",
    "    # Count the number of writer and main_chars\n",
    "    for col in ['writer', 'main_chars', 'guest_stars']:\n",
    "        df[col + '_count'] = df[col].apply(lambda x: len(x) if x[0] != 'N/A' else 0)\n",
    "    \n",
    "    # Retrieve episode count by director\n",
    "    df['ep_count_director'] = df.apply(lambda x: df[(df['director'] == x['director']) & (df['air_date'] < x['air_date'])].episode.count(),\n",
    "                                                    axis=1)\n",
    "    \n",
    "    # Avg, min, and max rating by director\n",
    "    df['avg_votes_director'] = df.apply(lambda x: df[(df['director'] == x['director']) & (df['air_date'] < x['air_date'])].total_votes.mean(),\n",
    "                                                    axis=1)\n",
    "    df['min_votes_director'] = df.apply(lambda x: df[(df['director'] == x['director']) & (df['air_date'] < x['air_date'])].total_votes.min(),\n",
    "                                                    axis=1)\n",
    "    df['max_votes_director'] = df.apply(lambda x: df[(df['director'] == x['director']) & (df['air_date'] < x['air_date'])].total_votes.max(),\n",
    "                                                    axis=1)\n",
    "    \n",
    "    # Rating from previous episode\n",
    "    df['imdb_rating_prev'] = df['imdb_rating'].shift(1)\n",
    "    \n",
    "    # Length of each episode name\n",
    "    df['episode_name_length'] = df['episode_name'].str.len()\n",
    "    \n",
    "    \n",
    "    # Drop irrelevant columns columns\n",
    "#     df = df.drop(columns=['episode', 'air_date', 'writer', 'main_chars', 'guest_stars'])\n",
    "    df = df.drop(columns=['air_date'])\n",
    "  \n",
    "    return df"
   ]
  },
  {
   "cell_type": "code",
   "execution_count": 5,
   "metadata": {},
   "outputs": [],
   "source": [
    "def preprocess(num_cols, cat_cols):\n",
    "    \"\"\"\n",
    "    Preprocess data by imputing null values and one hot encoding categorical columns.\n",
    "  \n",
    "    Arguments\n",
    "    ---------\n",
    "    impute: {'knn', 'mean', 'median', None}\n",
    "            type of imputation\n",
    "\n",
    "    scaling: {'standard', 'minmax', 'robust', None}\n",
    "             type of scaling\n",
    "\n",
    "    transform: {'yeo-johnson', 'box-cox', None}\n",
    "               type of power transformer\n",
    "\n",
    "    poly: int or None\n",
    "          if int is specified, it specifies the polynomial degree\n",
    "\n",
    "    memory: None or str\n",
    "            Providing path string enables scikit-learn's pipeline caching.\n",
    "            See scikit-learn pipeline documentation for more info\n",
    "  \n",
    "    Returns\n",
    "    -------\n",
    "    sklearn Pipeline\n",
    "    \"\"\"\n",
    "    \n",
    "    preprocessor = ColumnTransformer([\n",
    "    ('numeric', num_pipe(scaling='standard', transform='yeo-johnson', impute='knn'),\n",
    "     num_cols),\n",
    "    ('categoric', cat_pipe(encoder='onehot'),\n",
    "     cat_cols)\n",
    "    ])\n",
    "\n",
    "    pipeline = Pipeline([\n",
    "    ('prep', preprocessor),\n",
    "    ('algo', RandomForestRegressor(random_state=42))\n",
    "    ])\n",
    "  \n",
    "    return pipeline"
   ]
  },
  {
   "cell_type": "code",
   "execution_count": 6,
   "metadata": {},
   "outputs": [],
   "source": [
    "def split(df):\n",
    "    \"\"\"\n",
    "    Split data to training and testing.\n",
    "\n",
    "    Parameters\n",
    "    ----------\n",
    "    df: Pandas dataframe of data to be modeled (pd.DataFrame).\n",
    "    \n",
    "    Returns\n",
    "    -------\n",
    "    X_train: Training dataset (pd.DataFrame).\n",
    "    X_test: Testing dataset (pd.DataFrame).\n",
    "    y_train: Training label (pd.Series).\n",
    "    y_test: Testing label (pd.Series)\n",
    "    \"\"\"\n",
    "    \n",
    "    X = df.drop(columns=['imdb_rating'])\n",
    "    y = df['imdb_rating']\n",
    "    \n",
    "    # Split out the data into training and testing\n",
    "    X_train, X_test, y_train, y_test = train_test_split(X, y, train_size=0.7, random_state=42)\n",
    "    \n",
    "    return X_train, X_test, y_train, y_test"
   ]
  },
  {
   "cell_type": "code",
   "execution_count": 7,
   "metadata": {},
   "outputs": [],
   "source": [
    "def hyperparameter_tuning(pipeline, X_train, X_test, y_train, y_test):\n",
    "    \"\"\"\n",
    "    Hyperparameter tuning using randomized search to identify the best parameters.\n",
    "    \n",
    "    Parameters\n",
    "    ----------\n",
    "    pipeline: sklearn pipeline\n",
    "    X_train: Training dataset (pd.DataFrame).\n",
    "    X_test: Testing dataset (pd.DataFrame).\n",
    "    y_train: Training label (pd.Series).\n",
    "    y_test: Testing label (pd.Series)\n",
    "    \n",
    "    Returns\n",
    "    -------\n",
    "    best_estimator: Model with best parameter (sklearn model).\n",
    "    \"\"\"\n",
    "  \n",
    "    # Run model\n",
    "    # Randomized search of parameters, using 3 fold cross validation\n",
    "    params = {\n",
    "#               \"algo__min_samples_split\": Integer(2,20),\n",
    "              \"algo__n_estimators\": Integer(100, 200),\n",
    "#               \"algo__max_depth\": Integer(20, 80),\n",
    "#               \"algo__max_features\": Real(0.1, 1),\n",
    "#               \"algo__min_samples_leaf\": Integer(1, 20)\n",
    "            }\n",
    "    \n",
    "    model = RandomizedSearchCV(pipeline, params,\n",
    "                               scoring='r2', n_iter=30, random_state=42,\n",
    "                               cv=3, verbose=2, n_jobs=-1)\n",
    "\n",
    "    # Fit the randomized search model\n",
    "    model.fit(X_train, y_train)\n",
    "    best_estimator = model.best_estimator_\n",
    "    print('Best Parameters: {}'.format(model.best_params_))\n",
    "    y_pred = best_estimator.predict(X_train)\n",
    "    print('R2 Score (Train): {}'.format(r2_score(y_train, y_pred)))\n",
    "    # print('R2 Score (Train): {}'.format(model.best_score_))\n",
    "\n",
    "    # Evaluation metrics\n",
    "    y_pred = best_estimator.predict(X_test)\n",
    "    print('R2 Score: {}'.format(r2_score(y_test, y_pred)))\n",
    "    print('RMSE: {}'.format(mean_squared_error(y_test, y_pred, squared=False)))\n",
    "    print('MAE: {}'.format(mean_absolute_error(y_test, y_pred)))\n",
    "\n",
    "    # Plot R2 Score and Residual\n",
    "    plot_actual_vs_prediction(X_train, y_train, X_test, y_test, best_estimator)\n",
    "    plot_residual(X_train, y_train, X_test, y_test, best_estimator)\n",
    "  \n",
    "    return best_estimator"
   ]
  },
  {
   "cell_type": "code",
   "execution_count": 8,
   "metadata": {},
   "outputs": [],
   "source": [
    "def feature_importance(model, X_train, y_train):\n",
    "    \"\"\"\n",
    "    Calculate mean score decrease (feature importance) of each feature. Mean score decrease perform a random permutation on each of the input columns then collects the score decrease caused by each columns.\n",
    "  \n",
    "    Parameters\n",
    "    ----------\n",
    "    model: Model from hyperparameter tuning (model).\n",
    "    X_train: Training dataset (pd.DataFrame).\n",
    "    y_train: Training label (pd.Series).\n",
    "  \n",
    "    Returns\n",
    "    -------\n",
    "    df_feature: Pandas dataframe consists of top n feature (pd.DataFrame).\n",
    "    \"\"\"\n",
    "  \n",
    "    # Check Feature Importance\n",
    "    feature_importances = mean_score_decrease(X_train, y_train, best_estimator, plot=True, topk=10, normalize=True)\n",
    "    feature_importances = feature_importances.sort_values(by='importance', ascending=False)[['feature', 'importance']].reset_index(drop=True)\n",
    "  \n",
    "    # Show feature importance table\n",
    "    display(feature_importances)"
   ]
  },
  {
   "cell_type": "code",
   "execution_count": 9,
   "metadata": {
    "scrolled": true,
    "tags": []
   },
   "outputs": [
    {
     "name": "stdout",
     "output_type": "stream",
     "text": [
      "Fitting 3 folds for each of 30 candidates, totalling 90 fits\n"
     ]
    },
    {
     "name": "stderr",
     "output_type": "stream",
     "text": [
      "/Users/monica.stephanie/opt/anaconda3/envs/mlp-proj1/lib/python3.9/site-packages/jcopml/pipeline/_pipeline.py:66: UserWarning: Transformer has default standardization, so the scaling argument is neglected\n",
      "  warn(\"Transformer has default standardization, so the scaling argument is neglected\")\n"
     ]
    },
    {
     "name": "stdout",
     "output_type": "stream",
     "text": [
      "Best Parameters: {'algo__n_estimators': 102}\n",
      "R2 Score (Train): 0.9386934546256352\n",
      "R2 Score: 0.6584548220639737\n",
      "RMSE: 0.25842444005485093\n",
      "MAE: 0.2113970588235288\n"
     ]
    },
    {
     "data": {
      "text/html": [
       "<div>\n",
       "<style scoped>\n",
       "    .dataframe tbody tr th:only-of-type {\n",
       "        vertical-align: middle;\n",
       "    }\n",
       "\n",
       "    .dataframe tbody tr th {\n",
       "        vertical-align: top;\n",
       "    }\n",
       "\n",
       "    .dataframe thead th {\n",
       "        text-align: right;\n",
       "    }\n",
       "</style>\n",
       "<table border=\"1\" class=\"dataframe\">\n",
       "  <thead>\n",
       "    <tr style=\"text-align: right;\">\n",
       "      <th></th>\n",
       "      <th>feature</th>\n",
       "      <th>importance</th>\n",
       "    </tr>\n",
       "  </thead>\n",
       "  <tbody>\n",
       "    <tr>\n",
       "      <th>0</th>\n",
       "      <td>total_votes</td>\n",
       "      <td>0.758656</td>\n",
       "    </tr>\n",
       "    <tr>\n",
       "      <th>1</th>\n",
       "      <td>n_words</td>\n",
       "      <td>0.047156</td>\n",
       "    </tr>\n",
       "    <tr>\n",
       "      <th>2</th>\n",
       "      <td>min_votes_director</td>\n",
       "      <td>0.046334</td>\n",
       "    </tr>\n",
       "    <tr>\n",
       "      <th>3</th>\n",
       "      <td>n_lines</td>\n",
       "      <td>0.029255</td>\n",
       "    </tr>\n",
       "    <tr>\n",
       "      <th>4</th>\n",
       "      <td>avg_votes_director</td>\n",
       "      <td>0.028024</td>\n",
       "    </tr>\n",
       "    <tr>\n",
       "      <th>5</th>\n",
       "      <td>max_votes_director</td>\n",
       "      <td>0.025239</td>\n",
       "    </tr>\n",
       "    <tr>\n",
       "      <th>6</th>\n",
       "      <td>n_directions</td>\n",
       "      <td>0.015460</td>\n",
       "    </tr>\n",
       "    <tr>\n",
       "      <th>7</th>\n",
       "      <td>n_speak_char</td>\n",
       "      <td>0.014193</td>\n",
       "    </tr>\n",
       "    <tr>\n",
       "      <th>8</th>\n",
       "      <td>imdb_rating_prev</td>\n",
       "      <td>0.012315</td>\n",
       "    </tr>\n",
       "    <tr>\n",
       "      <th>9</th>\n",
       "      <td>main_chars_count</td>\n",
       "      <td>0.011038</td>\n",
       "    </tr>\n",
       "  </tbody>\n",
       "</table>\n",
       "</div>"
      ],
      "text/plain": [
       "              feature  importance\n",
       "0         total_votes    0.758656\n",
       "1             n_words    0.047156\n",
       "2  min_votes_director    0.046334\n",
       "3             n_lines    0.029255\n",
       "4  avg_votes_director    0.028024\n",
       "5  max_votes_director    0.025239\n",
       "6        n_directions    0.015460\n",
       "7        n_speak_char    0.014193\n",
       "8    imdb_rating_prev    0.012315\n",
       "9    main_chars_count    0.011038"
      ]
     },
     "metadata": {},
     "output_type": "display_data"
    },
    {
     "data": {
      "image/png": "[encoded data removed]",
      "text/plain": [
       "<Figure size 880x400 with 2 Axes>"
      ]
     },
     "metadata": {},
     "output_type": "display_data"
    },
    {
     "data": {
      "image/png": "[encoded data removed]",
      "text/plain": [
       "<Figure size 1200x400 with 2 Axes>"
      ]
     },
     "metadata": {},
     "output_type": "display_data"
    },
    {
     "data": {
      "image/png": "[encoded data removed]",
      "text/plain": [
       "<Figure size 1200x400 with 1 Axes>"
      ]
     },
     "metadata": {},
     "output_type": "display_data"
    }
   ],
   "source": [
    "num_cols = ['total_votes', 'n_lines', 'n_directions', 'n_words', 'n_speak_char', 'ep_count_director',\n",
    "            'writer_count', 'main_chars_count', 'imdb_rating_prev', 'avg_votes_director', 'min_votes_director',\n",
    "            'max_votes_director']\n",
    "cat_cols = []\n",
    "\n",
    "df = data_preparation(data, df_guest_star)\n",
    "pipeline = preprocess(num_cols, cat_cols)\n",
    "X_train, X_test, y_train, y_test = split(df)\n",
    "best_estimator = hyperparameter_tuning(pipeline, X_train, X_test, y_train, y_test)\n",
    "df_feature = feature_importance(best_estimator, X_train, y_train)"
   ]
  },
  {
   "cell_type": "code",
   "execution_count": 10,
   "metadata": {},
   "outputs": [],
   "source": [
    "# ProfileReport(df[[\n",
    "#                 'total_votes', 'n_lines', 'n_directions', 'n_words', 'n_speak_char', 'ep_count_director',\n",
    "#                 'writer_count', 'main_chars_count', 'imdb_rating_prev', 'avg_votes_director', 'min_votes_director',\n",
    "#                 'max_votes_director',\n",
    "#                 'air_day', 'air_month', 'air_year', 'air_week', 'air_day_of_week', 'air_is_weekday']])"
   ]
  },
  {
   "cell_type": "markdown",
   "metadata": {
    "id": "Ad7J-Yw67Fo3"
   },
   "source": [
    "## 3. Model Fitting and Tuning"
   ]
  },
  {
   "cell_type": "markdown",
   "metadata": {
    "id": "EXdvOaZs7Fo3"
   },
   "source": [
    "*In this section you should detail your choice of model and describe the process used to refine and fit that model.*\n",
    "\n",
    "- You are strongly encouraged to explore many different modeling methods (e.g. linear regression, regression trees, lasso, etc.) but you should not include a detailed narrative of all of these attempts. \n",
    "- At most this section should mention the methods explored and why they were rejected - most of your effort should go into describing the model you are using and your process for tuning and validatin it.\n",
    "\n",
    "*For example if you considered a linear regression model, a classification tree, and a lasso model and ultimately settled on the linear regression approach then you should mention that other two approaches were tried but do not include any of the code or any in depth discussion of these models beyond why they were rejected. This section should then detail is the development of the linear regression model in terms of features used, interactions considered, and any additional tuning and validation which ultimately led to your final model.* \n",
    "\n",
    "**This section should also include the full implementation of your final model, including all necessary validation. As with figures, any included code must also be addressed in the text of the document.**"
   ]
  },
  {
   "cell_type": "markdown",
   "metadata": {
    "id": "edQVULLU7Fo3"
   },
   "source": [
    "## 4. Discussion and Conclusions\n"
   ]
  },
  {
   "cell_type": "markdown",
   "metadata": {
    "id": "Fi0yKPrQ7Fo4"
   },
   "source": [
    "*In this section you should provide a general overview of **your final model**, its **performance**, and **reliability**.* \n",
    "\n",
    "- You should discuss what the implications of your model are in terms of the included features, predictive performance, and anything else you think is relevant.\n",
    "\n",
    "- This should be written with a target audience of a NBC Universal executive who is with the show and university level mathematics but not necessarily someone who has taken a postgraduate statistical modeling course. \n",
    "\n",
    "- Your goal should be to convince this audience that your model is both accurate and useful.\n",
    "\n",
    "- Finally, you should include concrete recommendations on what NBC Universal should do to make their reunion episode a popular as possible.\n",
    "\n",
    "**Keep in mind that a negative result, i.e. a model that does not work well predictively, but that is well explained and justified in terms of why it failed will likely receive higher marks than a model with strong predictive performance but with poor or incorrect explanations / justifications.**"
   ]
  },
  {
   "cell_type": "markdown",
   "metadata": {},
   "source": [
    "## 5. References\n",
    "\n",
    "*In this section, you should present a list of external sources (except the course materials) that you used during the project, if any*\n",
    "\n",
    "- Additional data sources can be cited here, in addition to related python documentations, any other webpage sources that you benefited from"
   ]
  },
  {
   "cell_type": "code",
   "execution_count": 11,
   "metadata": {},
   "outputs": [
    {
     "name": "stdout",
     "output_type": "stream",
     "text": [
      "[CV] END .............................algo__n_estimators=151; total time=   0.3s\n",
      "[CV] END .............................algo__n_estimators=171; total time=   0.3s\n",
      "[CV] END .............................algo__n_estimators=120; total time=   0.2s\n",
      "[CV] END .............................algo__n_estimators=174; total time=   0.3s\n",
      "[CV] END .............................algo__n_estimators=199; total time=   0.3s\n",
      "[CV] END .............................algo__n_estimators=102; total time=   0.2s\n",
      "[CV] END .............................algo__n_estimators=101; total time=   0.2s\n",
      "[CV] END .............................algo__n_estimators=137; total time=   0.2s\n",
      "[CV] END .............................algo__n_estimators=163; total time=   0.3s\n",
      "[CV] END .............................algo__n_estimators=132; total time=   0.3s\n",
      "[CV] END .............................algo__n_estimators=121; total time=   0.2s\n",
      "[CV] END .............................algo__n_estimators=114; total time=   0.2s\n",
      "[CV] END .............................algo__n_estimators=160; total time=   0.3s\n",
      "[CV] END .............................algo__n_estimators=174; total time=   0.3s\n",
      "[CV] END .............................algo__n_estimators=187; total time=   0.3s\n",
      "[CV] END .............................algo__n_estimators=102; total time=   0.2s\n",
      "[CV] END .............................algo__n_estimators=152; total time=   0.2s\n",
      "[CV] END .............................algo__n_estimators=129; total time=   0.2s\n",
      "[CV] END .............................algo__n_estimators=137; total time=   0.2s\n",
      "[CV] END .............................algo__n_estimators=120; total time=   0.2s\n",
      "[CV] END .............................algo__n_estimators=175; total time=   0.3s\n",
      "[CV] END .............................algo__n_estimators=121; total time=   0.2s\n",
      "[CV] END .............................algo__n_estimators=192; total time=   0.4s\n",
      "[CV] END .............................algo__n_estimators=120; total time=   0.2s\n",
      "[CV] END .............................algo__n_estimators=182; total time=   0.3s\n",
      "[CV] END .............................algo__n_estimators=174; total time=   0.2s\n",
      "[CV] END .............................algo__n_estimators=199; total time=   0.3s\n",
      "[CV] END .............................algo__n_estimators=121; total time=   0.3s\n",
      "[CV] END .............................algo__n_estimators=129; total time=   0.2s\n",
      "[CV] END .............................algo__n_estimators=163; total time=   0.3s\n",
      "[CV] END .............................algo__n_estimators=120; total time=   0.2s\n",
      "[CV] END .............................algo__n_estimators=157; total time=   0.3s\n",
      "[CV] END .............................algo__n_estimators=148; total time=   0.2s\n",
      "[CV] END .............................algo__n_estimators=151; total time=   0.4s\n",
      "[CV] END .............................algo__n_estimators=114; total time=   0.3s\n",
      "[CV] END .............................algo__n_estimators=160; total time=   0.3s\n",
      "[CV] END .............................algo__n_estimators=186; total time=   0.3s\n",
      "[CV] END .............................algo__n_estimators=187; total time=   0.3s\n",
      "[CV] END .............................algo__n_estimators=123; total time=   0.2s\n",
      "[CV] END .............................algo__n_estimators=152; total time=   0.2s\n",
      "[CV] END .............................algo__n_estimators=129; total time=   0.2s\n",
      "[CV] END .............................algo__n_estimators=101; total time=   0.2s\n",
      "[CV] END .............................algo__n_estimators=159; total time=   0.2s\n",
      "[CV] END .............................algo__n_estimators=175; total time=   0.3s\n",
      "[CV] END .............................algo__n_estimators=188; total time=   0.3s\n",
      "[CV] END .............................algo__n_estimators=192; total time=   0.4s\n",
      "[CV] END .............................algo__n_estimators=120; total time=   0.3s\n",
      "[CV] END .............................algo__n_estimators=186; total time=   0.4s\n",
      "[CV] END .............................algo__n_estimators=187; total time=   0.3s\n",
      "[CV] END .............................algo__n_estimators=102; total time=   0.2s\n",
      "[CV] END .............................algo__n_estimators=101; total time=   0.2s\n",
      "[CV] END .............................algo__n_estimators=187; total time=   0.3s\n",
      "[CV] END .............................algo__n_estimators=101; total time=   0.2s\n",
      "[CV] END .............................algo__n_estimators=120; total time=   0.2s\n",
      "[CV] END .............................algo__n_estimators=175; total time=   0.3s\n",
      "[CV] END .............................algo__n_estimators=188; total time=   0.3s\n",
      "[CV] END .............................algo__n_estimators=192; total time=   0.4s\n",
      "[CV] END .............................algo__n_estimators=160; total time=   0.3s\n",
      "[CV] END .............................algo__n_estimators=182; total time=   0.3s\n",
      "[CV] END .............................algo__n_estimators=174; total time=   0.3s\n",
      "[CV] END .............................algo__n_estimators=123; total time=   0.2s\n",
      "[CV] END .............................algo__n_estimators=121; total time=   0.2s\n",
      "[CV] END .............................algo__n_estimators=187; total time=   0.3s\n",
      "[CV] END .............................algo__n_estimators=101; total time=   0.2s\n",
      "[CV] END .............................algo__n_estimators=159; total time=   0.3s\n",
      "[CV] END .............................algo__n_estimators=157; total time=   0.3s\n",
      "[CV] END .............................algo__n_estimators=188; total time=   0.3s\n",
      "[CV] END .............................algo__n_estimators=151; total time=   0.3s\n",
      "[CV] END .............................algo__n_estimators=171; total time=   0.4s\n",
      "[CV] END .............................algo__n_estimators=186; total time=   0.3s\n",
      "[CV] END .............................algo__n_estimators=174; total time=   0.3s\n",
      "[CV] END .............................algo__n_estimators=123; total time=   0.2s\n",
      "[CV] END .............................algo__n_estimators=121; total time=   0.2s\n",
      "[CV] END .............................algo__n_estimators=101; total time=   0.2s\n",
      "[CV] END .............................algo__n_estimators=137; total time=   0.2s\n",
      "[CV] END .............................algo__n_estimators=159; total time=   0.3s\n",
      "[CV] END .............................algo__n_estimators=132; total time=   0.3s\n",
      "[CV] END .............................algo__n_estimators=121; total time=   0.2s\n",
      "[CV] END .............................algo__n_estimators=148; total time=   0.2s\n",
      "[CV] END .............................algo__n_estimators=114; total time=   0.2s\n",
      "[CV] END .............................algo__n_estimators=171; total time=   0.4s\n",
      "[CV] END .............................algo__n_estimators=182; total time=   0.3s\n",
      "[CV] END .............................algo__n_estimators=174; total time=   0.3s\n",
      "[CV] END .............................algo__n_estimators=199; total time=   0.3s\n",
      "[CV] END .............................algo__n_estimators=152; total time=   0.2s\n",
      "[CV] END .............................algo__n_estimators=187; total time=   0.3s\n",
      "[CV] END .............................algo__n_estimators=163; total time=   0.3s\n",
      "[CV] END .............................algo__n_estimators=132; total time=   0.2s\n",
      "[CV] END .............................algo__n_estimators=157; total time=   0.3s\n",
      "[CV] END .............................algo__n_estimators=148; total time=   0.2s\n"
     ]
    }
   ],
   "source": [
    "# px.line(data, x='air_date', y='imdb_rating')"
   ]
  }
 ],
 "metadata": {
  "colab": {
   "collapsed_sections": [],
   "name": "project1.ipynb",
   "provenance": []
  },
  "kernelspec": {
   "display_name": "Python 3 (ipykernel)",
   "language": "python",
   "name": "python3"
  },
  "language_info": {
   "codemirror_mode": {
    "name": "ipython",
    "version": 3
   },
   "file_extension": ".py",
   "mimetype": "text/x-python",
   "name": "python",
   "nbconvert_exporter": "python",
   "pygments_lexer": "ipython3",
   "version": "3.9.16"
  }
 },
 "nbformat": 4,
 "nbformat_minor": 4
}
